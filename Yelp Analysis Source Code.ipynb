{
 "cells": [
  {
   "cell_type": "code",
   "execution_count": null,
   "metadata": {
    "_cell_guid": "b1076dfc-b9ad-4769-8c92-a6c4dae69d19",
    "_uuid": "8f2839f25d086af736a60e9eeb907d3b93b6e0e5",
    "execution": {
     "iopub.execute_input": "2022-12-04T00:25:24.490718Z",
     "iopub.status.busy": "2022-12-04T00:25:24.490343Z",
     "iopub.status.idle": "2022-12-04T00:25:24.503179Z",
     "shell.execute_reply": "2022-12-04T00:25:24.501970Z",
     "shell.execute_reply.started": "2022-12-04T00:25:24.490690Z"
    }
   },
   "outputs": [],
   "source": [
    "# This Python 3 environment comes with many helpful analytics libraries installed\n",
    "# It is defined by the kaggle/python Docker image: https://github.com/kaggle/docker-python\n",
    "# For example, here's several helpful packages to load\n",
    "\n",
    "import numpy as np # linear algebra\n",
    "import pandas as pd # data processing, CSV file I/O (e.g. pd.read_csv)\n",
    "\n",
    "# Input data files are available in the read-only \"../input/\" directory\n",
    "# For example, running this (by clicking run or pressing Shift+Enter) will list all files under the input directory\n",
    "\n",
    "import os\n",
    "for dirname, _, filenames in os.walk('/kaggle/input'):\n",
    "    for filename in filenames:\n",
    "        print(os.path.join(dirname, filename))\n",
    "\n",
    "# You can write up to 20GB to the current directory (/kaggle/working/) that gets preserved as output when you create a version using \"Save & Run All\" \n",
    "# You can also write temporary files to /kaggle/temp/, but they won't be saved outside of the current session"
   ]
  },
  {
   "cell_type": "code",
   "execution_count": null,
   "metadata": {
    "execution": {
     "iopub.execute_input": "2022-12-04T00:25:24.507990Z",
     "iopub.status.busy": "2022-12-04T00:25:24.507042Z",
     "iopub.status.idle": "2022-12-04T00:25:24.782774Z",
     "shell.execute_reply": "2022-12-04T00:25:24.780796Z",
     "shell.execute_reply.started": "2022-12-04T00:25:24.507948Z"
    }
   },
   "outputs": [],
   "source": [
    "!pwd"
   ]
  },
  {
   "cell_type": "code",
   "execution_count": null,
   "metadata": {
    "execution": {
     "iopub.execute_input": "2022-12-04T00:25:24.785089Z",
     "iopub.status.busy": "2022-12-04T00:25:24.784770Z",
     "iopub.status.idle": "2022-12-04T00:25:25.054701Z",
     "shell.execute_reply": "2022-12-04T00:25:25.053142Z",
     "shell.execute_reply.started": "2022-12-04T00:25:24.785063Z"
    }
   },
   "outputs": [],
   "source": [
    "!cat /proc/meminfo"
   ]
  },
  {
   "cell_type": "code",
   "execution_count": null,
   "metadata": {
    "execution": {
     "iopub.execute_input": "2022-12-04T00:25:25.056953Z",
     "iopub.status.busy": "2022-12-04T00:25:25.056565Z",
     "iopub.status.idle": "2022-12-04T00:25:25.328335Z",
     "shell.execute_reply": "2022-12-04T00:25:25.326849Z",
     "shell.execute_reply.started": "2022-12-04T00:25:25.056918Z"
    }
   },
   "outputs": [],
   "source": [
    "!ls -lh ../input/spark311/spark-3.0.1-bin-hadoop3.2\\ \\(1\\).tgz"
   ]
  },
  {
   "cell_type": "code",
   "execution_count": null,
   "metadata": {
    "execution": {
     "iopub.execute_input": "2022-12-04T00:25:25.331977Z",
     "iopub.status.busy": "2022-12-04T00:25:25.331581Z",
     "iopub.status.idle": "2022-12-04T00:25:25.596796Z",
     "shell.execute_reply": "2022-12-04T00:25:25.595668Z",
     "shell.execute_reply.started": "2022-12-04T00:25:25.331940Z"
    }
   },
   "outputs": [],
   "source": [
    "!ls /kaggle"
   ]
  },
  {
   "cell_type": "code",
   "execution_count": null,
   "metadata": {
    "execution": {
     "iopub.execute_input": "2022-12-04T00:25:25.598519Z",
     "iopub.status.busy": "2022-12-04T00:25:25.598170Z",
     "iopub.status.idle": "2022-12-04T00:25:30.619715Z",
     "shell.execute_reply": "2022-12-04T00:25:30.618409Z",
     "shell.execute_reply.started": "2022-12-04T00:25:25.598481Z"
    }
   },
   "outputs": [],
   "source": [
    "!tar -xzf ../input/spark311/spark-3.0.1-bin-hadoop3.2\\ \\(1\\).tgz -C ."
   ]
  },
  {
   "cell_type": "code",
   "execution_count": null,
   "metadata": {
    "execution": {
     "iopub.execute_input": "2022-12-04T00:25:30.622006Z",
     "iopub.status.busy": "2022-12-04T00:25:30.621563Z",
     "iopub.status.idle": "2022-12-04T00:25:42.943936Z",
     "shell.execute_reply": "2022-12-04T00:25:42.942569Z",
     "shell.execute_reply.started": "2022-12-04T00:25:30.621966Z"
    }
   },
   "outputs": [],
   "source": [
    "!pip install findspark"
   ]
  },
  {
   "cell_type": "code",
   "execution_count": null,
   "metadata": {
    "execution": {
     "iopub.execute_input": "2022-12-04T00:25:42.946014Z",
     "iopub.status.busy": "2022-12-04T00:25:42.945549Z",
     "iopub.status.idle": "2022-12-04T00:25:43.217980Z",
     "shell.execute_reply": "2022-12-04T00:25:43.217046Z",
     "shell.execute_reply.started": "2022-12-04T00:25:42.945976Z"
    }
   },
   "outputs": [],
   "source": [
    "!ls -lh ../input/findspark/"
   ]
  },
  {
   "cell_type": "code",
   "execution_count": null,
   "metadata": {
    "execution": {
     "iopub.execute_input": "2022-12-04T00:25:43.219304Z",
     "iopub.status.busy": "2022-12-04T00:25:43.219011Z",
     "iopub.status.idle": "2022-12-04T00:25:51.868163Z",
     "shell.execute_reply": "2022-12-04T00:25:51.867276Z",
     "shell.execute_reply.started": "2022-12-04T00:25:43.219277Z"
    }
   },
   "outputs": [],
   "source": [
    "!pip install ../input/findspark/findspark-2.0.1-py2.py3-none-any.whl"
   ]
  },
  {
   "cell_type": "code",
   "execution_count": null,
   "metadata": {
    "execution": {
     "iopub.execute_input": "2022-12-04T00:25:51.869917Z",
     "iopub.status.busy": "2022-12-04T00:25:51.869660Z",
     "iopub.status.idle": "2022-12-04T00:25:52.663112Z",
     "shell.execute_reply": "2022-12-04T00:25:52.662153Z",
     "shell.execute_reply.started": "2022-12-04T00:25:51.869893Z"
    }
   },
   "outputs": [],
   "source": [
    "!which java\n",
    "!ls -lh /usr/bin/java\n",
    "!ls -lh /etc/alternatives/java"
   ]
  },
  {
   "cell_type": "code",
   "execution_count": null,
   "metadata": {
    "execution": {
     "iopub.execute_input": "2022-12-04T00:25:52.665213Z",
     "iopub.status.busy": "2022-12-04T00:25:52.664509Z",
     "iopub.status.idle": "2022-12-04T00:25:56.899923Z",
     "shell.execute_reply": "2022-12-04T00:25:56.898843Z",
     "shell.execute_reply.started": "2022-12-04T00:25:52.665171Z"
    }
   },
   "outputs": [],
   "source": [
    "import os\n",
    "import sys\n",
    "\n",
    "os.environ[\"JAVA_HOME\"] = \"/usr/lib/jvm/java-11-openjdk-amd64/\"\n",
    "os.environ[\"SPARK_HOME\"] = \"/kaggle/working/spark-3.0.1-bin-hadoop3.2\"\n",
    "spark_path = os.environ['SPARK_HOME']\n",
    "sys.path.append(spark_path + \"/bin\")\n",
    "sys.path.append(spark_path + \"/python\")\n",
    "sys.path.append(spark_path + \"/python/pyspark/\")\n",
    "sys.path.append(spark_path + \"/python/lib\")\n",
    "sys.path.append(spark_path + \"/python/lib/pyspark.zip\")\n",
    "sys.path.append(spark_path + \"/python/lib/py4j-0.10.9-src.zip\")\n",
    "\n",
    "import findspark\n",
    "findspark.init()\n",
    "\n",
    "import pyspark\n",
    "number_cores = 4\n",
    "memory_gb = 2\n",
    "\n",
    "conf = (pyspark.SparkConf().setMaster('local[{}]'.format(number_cores)).set('spark.driver.memory', '{}g'.format(memory_gb)))\n",
    "\n",
    "sc = pyspark.SparkContext(conf=conf)"
   ]
  },
  {
   "cell_type": "code",
   "execution_count": null,
   "metadata": {
    "execution": {
     "iopub.execute_input": "2022-12-04T00:37:54.038567Z",
     "iopub.status.busy": "2022-12-04T00:37:54.038208Z",
     "iopub.status.idle": "2022-12-04T00:37:54.103949Z",
     "shell.execute_reply": "2022-12-04T00:37:54.103074Z",
     "shell.execute_reply.started": "2022-12-04T00:37:54.038535Z"
    }
   },
   "outputs": [],
   "source": [
    "user = sc.textFile(\"../input/yelp-dataset/yelp_academic_dataset_user.json\")\n",
    "review = sc.textFile(\"../input/yelp-dataset/yelp_academic_dataset_review.json\")\n",
    "business = sc.textFile(\"../input/yelp-dataset/yelp_academic_dataset_business.json\")"
   ]
  },
  {
   "cell_type": "markdown",
   "metadata": {},
   "source": [
    "**<font size=\"5\">The Assignment (Part 1):</font>**\n",
    "\n",
    "Identify 100 users with highest number of ratings/fans.  \n",
    "\n",
    "Extract the reviews of these users and combine it with the business information. Are they eating across multiple metropolitans? Is there a preference in restaurant/food style of their reviews? Can you infer the locations of these users?\n",
    "\n",
    "**<font size=\"5\">Step 1:</font>**\n",
    "\n",
    "The first step was to find the top 100 users. This was done by taking a map of 'user_id' and 'fans' from all users in the dataset and then sorting the top 100 from highest to lowest."
   ]
  },
  {
   "cell_type": "code",
   "execution_count": null,
   "metadata": {
    "execution": {
     "iopub.execute_input": "2022-12-04T00:36:44.047855Z",
     "iopub.status.busy": "2022-12-04T00:36:44.047478Z",
     "iopub.status.idle": "2022-12-04T00:37:32.673982Z",
     "shell.execute_reply": "2022-12-04T00:37:32.672692Z",
     "shell.execute_reply.started": "2022-12-04T00:36:44.047827Z"
    }
   },
   "outputs": [],
   "source": [
    "from pyspark.sql import SparkSession\n",
    "import json\n",
    "spark = SparkSession.builder.appName('demo').master(\"local\").enableHiveSupport().getOrCreate()\n",
    "uj = spark.read.json(\"../input/yelp-dataset/yelp_academic_dataset_user.json\")\n",
    "rj = spark.read.json(\"../input/yelp-dataset/yelp_academic_dataset_review.json\")\n",
    "bj = spark.read.json(\"../input/yelp-dataset/yelp_academic_dataset_business.json\")"
   ]
  },
  {
   "cell_type": "code",
   "execution_count": null,
   "metadata": {
    "execution": {
     "iopub.execute_input": "2022-12-04T00:38:12.535314Z",
     "iopub.status.busy": "2022-12-04T00:38:12.534962Z",
     "iopub.status.idle": "2022-12-04T00:38:12.542345Z",
     "shell.execute_reply": "2022-12-04T00:38:12.540919Z",
     "shell.execute_reply.started": "2022-12-04T00:38:12.535283Z"
    }
   },
   "outputs": [],
   "source": [
    "user_json = user.map(lambda x: json.loads(x))\n",
    "review_json = review.map(lambda x: json.loads(x))\n",
    "business_json = business.map(lambda x: json.loads(x))"
   ]
  },
  {
   "cell_type": "code",
   "execution_count": null,
   "metadata": {
    "execution": {
     "iopub.execute_input": "2022-12-04T00:38:31.680102Z",
     "iopub.status.busy": "2022-12-04T00:38:31.679729Z",
     "iopub.status.idle": "2022-12-04T00:38:49.318370Z",
     "shell.execute_reply": "2022-12-04T00:38:49.317672Z",
     "shell.execute_reply.started": "2022-12-04T00:38:31.680070Z"
    }
   },
   "outputs": [],
   "source": [
    "userRatings = user_json.map(lambda x: (\"User ID: \" + x['user_id'], x['fans']))\n",
    "uRatings = userRatings.takeOrdered(100, key = lambda x: -x[1])"
   ]
  },
  {
   "cell_type": "markdown",
   "metadata": {},
   "source": [
    "Now that I had the top 100 users, I really only need their user IDs. Now that the user ids were put into a list, I could filter all of the reviews through it."
   ]
  },
  {
   "cell_type": "code",
   "execution_count": null,
   "metadata": {
    "execution": {
     "iopub.execute_input": "2022-12-04T00:39:26.096254Z",
     "iopub.status.busy": "2022-12-04T00:39:26.095865Z",
     "iopub.status.idle": "2022-12-04T00:39:26.102400Z",
     "shell.execute_reply": "2022-12-04T00:39:26.101405Z",
     "shell.execute_reply.started": "2022-12-04T00:39:26.096215Z"
    }
   },
   "outputs": [],
   "source": [
    "userIDs = [i[0] for i in uRatings]"
   ]
  },
  {
   "cell_type": "code",
   "execution_count": null,
   "metadata": {
    "execution": {
     "iopub.execute_input": "2022-12-04T00:39:40.831233Z",
     "iopub.status.busy": "2022-12-04T00:39:40.830888Z",
     "iopub.status.idle": "2022-12-04T00:39:40.837992Z",
     "shell.execute_reply": "2022-12-04T00:39:40.836459Z",
     "shell.execute_reply.started": "2022-12-04T00:39:40.831207Z"
    }
   },
   "outputs": [],
   "source": [
    "reviews = review_json.map(lambda x: (x['business_id'], \"User ID: \" + x['user_id']))\n",
    "businessInfo = business_json.map(lambda x: (x['business_id'], (x['city'] + \", \" + x['state'], x['categories'])))"
   ]
  },
  {
   "cell_type": "code",
   "execution_count": null,
   "metadata": {
    "execution": {
     "iopub.execute_input": "2022-12-04T00:39:54.460023Z",
     "iopub.status.busy": "2022-12-04T00:39:54.458532Z",
     "iopub.status.idle": "2022-12-04T00:39:54.465503Z",
     "shell.execute_reply": "2022-12-04T00:39:54.464239Z",
     "shell.execute_reply.started": "2022-12-04T00:39:54.459970Z"
    }
   },
   "outputs": [],
   "source": [
    "totalInfo = reviews.filter(lambda x: x[1] in userIDs)"
   ]
  },
  {
   "cell_type": "markdown",
   "metadata": {},
   "source": [
    "**<font size=\"5\">Step 2:</font>**\n",
    "\n",
    "The next step was to combine our filtered reviews with the business dataset. This was done by using the join function which takes in <Key1, Value1> and <Key1, Value2> and returns <Key1, (Value 1 and Value 2)>. I used the business_id from reviews and businessInfo as the key, and the values ended up being user ID, location (city,state), and categories."
   ]
  },
  {
   "cell_type": "code",
   "execution_count": null,
   "metadata": {
    "execution": {
     "iopub.execute_input": "2022-12-04T00:40:59.100774Z",
     "iopub.status.busy": "2022-12-04T00:40:59.100388Z",
     "iopub.status.idle": "2022-12-04T00:40:59.170943Z",
     "shell.execute_reply": "2022-12-04T00:40:59.169687Z",
     "shell.execute_reply.started": "2022-12-04T00:40:59.100744Z"
    }
   },
   "outputs": [],
   "source": [
    "test = totalInfo.join(businessInfo)"
   ]
  },
  {
   "cell_type": "code",
   "execution_count": null,
   "metadata": {
    "execution": {
     "iopub.execute_input": "2022-12-04T00:41:07.230997Z",
     "iopub.status.busy": "2022-12-04T00:41:07.230649Z",
     "iopub.status.idle": "2022-12-04T00:41:54.342148Z",
     "shell.execute_reply": "2022-12-04T00:41:54.341377Z",
     "shell.execute_reply.started": "2022-12-04T00:41:07.230972Z"
    }
   },
   "outputs": [],
   "source": [
    "test.take(1)"
   ]
  },
  {
   "cell_type": "markdown",
   "metadata": {},
   "source": [
    "Right now, the info is in the form (Business ID, (User ID, (Location, Categories))). It isnt too useful in this format, so I decided that it would be best if it was put in the form of (User ID, (Business ID, Location, Categories))"
   ]
  },
  {
   "cell_type": "code",
   "execution_count": null,
   "metadata": {
    "execution": {
     "iopub.execute_input": "2022-12-04T00:43:04.543015Z",
     "iopub.status.busy": "2022-12-04T00:43:04.542624Z",
     "iopub.status.idle": "2022-12-04T00:43:04.612261Z",
     "shell.execute_reply": "2022-12-04T00:43:04.611093Z",
     "shell.execute_reply.started": "2022-12-04T00:43:04.542979Z"
    }
   },
   "outputs": [],
   "source": [
    "temp = test.map(lambda x: (x[1][0], (x[0], x[1][1][0], x[1][1][1])))\n",
    "temp.take(1)"
   ]
  },
  {
   "cell_type": "markdown",
   "metadata": {},
   "source": [
    "The next thing to do is group all reviews and business information to the respective users. As you can see, before grouping by key, the count is pretty high."
   ]
  },
  {
   "cell_type": "code",
   "execution_count": null,
   "metadata": {
    "execution": {
     "iopub.execute_input": "2022-12-04T00:52:46.507894Z",
     "iopub.status.busy": "2022-12-04T00:52:46.507489Z",
     "iopub.status.idle": "2022-12-04T00:52:48.110051Z",
     "shell.execute_reply": "2022-12-04T00:52:48.109229Z",
     "shell.execute_reply.started": "2022-12-04T00:52:46.507863Z"
    }
   },
   "outputs": [],
   "source": [
    "temp.count()"
   ]
  },
  {
   "cell_type": "code",
   "execution_count": null,
   "metadata": {
    "execution": {
     "iopub.execute_input": "2022-12-04T00:43:37.610129Z",
     "iopub.status.busy": "2022-12-04T00:43:37.609779Z",
     "iopub.status.idle": "2022-12-04T00:43:37.637823Z",
     "shell.execute_reply": "2022-12-04T00:43:37.636891Z",
     "shell.execute_reply.started": "2022-12-04T00:43:37.610104Z"
    }
   },
   "outputs": [],
   "source": [
    "newTemp = temp.groupByKey().mapValues(list)"
   ]
  },
  {
   "cell_type": "code",
   "execution_count": null,
   "metadata": {
    "execution": {
     "iopub.execute_input": "2022-12-04T00:44:47.998561Z",
     "iopub.status.busy": "2022-12-04T00:44:47.998224Z",
     "iopub.status.idle": "2022-12-04T00:44:54.802319Z",
     "shell.execute_reply": "2022-12-04T00:44:54.801555Z",
     "shell.execute_reply.started": "2022-12-04T00:44:47.998536Z"
    }
   },
   "outputs": [],
   "source": [
    "newTemp.count()"
   ]
  },
  {
   "cell_type": "markdown",
   "metadata": {},
   "source": [
    "**<font size=\"5\">Step 3:</font>**\n",
    "\n",
    "Step 3 is broken up into two different parts: \n",
    "\n",
    "The first part is to create a method that grabs each individual business location and adds a count to it.\n",
    "\n",
    "The second step, similar to the first, is to create a method that splits up the broad overall categories into individual categories and then add a count to each one.\n",
    "\n",
    "I would like to point out that these two methods wouldn't be very effective if we were exploring a large sample group as opposed to just the top 100. But, given there were only 100 users and around 13,000 reviews combined between them, it made the below methods doable."
   ]
  },
  {
   "cell_type": "code",
   "execution_count": null,
   "metadata": {
    "execution": {
     "iopub.execute_input": "2022-12-04T00:44:08.894159Z",
     "iopub.status.busy": "2022-12-04T00:44:08.893770Z",
     "iopub.status.idle": "2022-12-04T00:44:08.903250Z",
     "shell.execute_reply": "2022-12-04T00:44:08.901805Z",
     "shell.execute_reply.started": "2022-12-04T00:44:08.894129Z"
    }
   },
   "outputs": [],
   "source": [
    "from collections import Counter\n",
    "\n",
    "def locationCounter(a):\n",
    "    l = [elem[1] for elem in a[1]]\n",
    "    d = list(Counter(l).items())\n",
    "    return d\n",
    "\n",
    "def categoryCounter(a):\n",
    "    for elem in a[1]:\n",
    "        if elem[2] is None:\n",
    "            return\n",
    "    l = [elem[2].split(\", \") for elem in a[1]]\n",
    "    d = tuple(Counter(x for xs in l for x in set(xs)).items())\n",
    "    return d"
   ]
  },
  {
   "cell_type": "code",
   "execution_count": null,
   "metadata": {
    "execution": {
     "iopub.execute_input": "2022-12-04T00:44:22.857336Z",
     "iopub.status.busy": "2022-12-04T00:44:22.856958Z",
     "iopub.status.idle": "2022-12-04T00:44:22.862678Z",
     "shell.execute_reply": "2022-12-04T00:44:22.861395Z",
     "shell.execute_reply.started": "2022-12-04T00:44:22.857304Z"
    }
   },
   "outputs": [],
   "source": [
    "trythis = newTemp.map(lambda x: (x[0], locationCounter(x))) #Gets count of each business location per user id"
   ]
  },
  {
   "cell_type": "markdown",
   "metadata": {},
   "source": [
    "Here, we can see the count for each location for each user. I think this is pretty useful in finding out what metropolitan area users live in. For example, user \"0G-QF457q_0Z_jKqh6xWiA\" has 548 reviews in the New Orleans, LA area while the second most visited area is Nashville, TN with only 32 reviews. Based on this information, we can assume that they most likely live in New Orleans, and this method can be applied to almost all of the top users. One last observation is that some users have a large variety of locations indicating that they eat in many different cities."
   ]
  },
  {
   "cell_type": "code",
   "execution_count": null,
   "metadata": {
    "execution": {
     "iopub.execute_input": "2022-12-04T00:44:59.326320Z",
     "iopub.status.busy": "2022-12-04T00:44:59.325649Z",
     "iopub.status.idle": "2022-12-04T00:45:01.752214Z",
     "shell.execute_reply": "2022-12-04T00:45:01.750583Z",
     "shell.execute_reply.started": "2022-12-04T00:44:59.326277Z"
    },
    "jupyter": {
     "outputs_hidden": true
    }
   },
   "outputs": [],
   "source": [
    "trythis.take(100)"
   ]
  },
  {
   "cell_type": "markdown",
   "metadata": {},
   "source": [
    "Now we can see the count for all categories for each user. This is fairly useful in finding out if a user has a certain preference. An example would be user \"0G-QF457q_0Z_jKqh6xWiA\". Although a few categories have high counts, \"American (New)\" category ranks the highest for them with seventy-one occurences. I would say one drawback to my method is that there isnt a great way to run a takeOrdered function on them to see the highest ranking categories. Additionally, there may be extraneous categories that aren't very useful like \"Restaurants\" or \"Food\". "
   ]
  },
  {
   "cell_type": "code",
   "execution_count": null,
   "metadata": {
    "execution": {
     "iopub.execute_input": "2022-12-04T00:45:30.457081Z",
     "iopub.status.busy": "2022-12-04T00:45:30.456696Z",
     "iopub.status.idle": "2022-12-04T00:45:30.464283Z",
     "shell.execute_reply": "2022-12-04T00:45:30.462352Z",
     "shell.execute_reply.started": "2022-12-04T00:45:30.457050Z"
    }
   },
   "outputs": [],
   "source": [
    "types = newTemp.map(lambda x: (x[0], categoryCounter(x))) #Shows count of each category for each user"
   ]
  },
  {
   "cell_type": "code",
   "execution_count": null,
   "metadata": {
    "execution": {
     "iopub.execute_input": "2022-12-04T01:10:20.959878Z",
     "iopub.status.busy": "2022-12-04T01:10:20.959446Z",
     "iopub.status.idle": "2022-12-04T01:10:24.105872Z",
     "shell.execute_reply": "2022-12-04T01:10:24.104778Z",
     "shell.execute_reply.started": "2022-12-04T01:10:20.959843Z"
    },
    "jupyter": {
     "outputs_hidden": true
    }
   },
   "outputs": [],
   "source": [
    "types.take(100)"
   ]
  },
  {
   "cell_type": "markdown",
   "metadata": {},
   "source": [
    "**<font size=\"5\">The Assignment (Part 2):</font>**\n",
    "\n",
    "Identify one of your favorite restaurants that is available on Yelp. Search for all reviews and reviewers for this restaurants. \n",
    "\n",
    "Is this restaurant frequented by non-local reviewers (how do you know)?\n",
    "\n",
    "What are the positive things about this restaurant (study higher-rated reviews)\n",
    "\n",
    "What are the negative things about this restaurant (study lower-rated reviews)\n",
    "\n",
    "Right off the bat, my strategy is going to be the opposite of what I did to find user info as the question is basically asking us to work backwards."
   ]
  },
  {
   "cell_type": "code",
   "execution_count": null,
   "metadata": {
    "execution": {
     "iopub.execute_input": "2022-12-04T01:26:56.000312Z",
     "iopub.status.busy": "2022-12-04T01:26:55.999877Z",
     "iopub.status.idle": "2022-12-04T01:26:56.005970Z",
     "shell.execute_reply": "2022-12-04T01:26:56.005081Z",
     "shell.execute_reply.started": "2022-12-04T01:26:56.000276Z"
    }
   },
   "outputs": [],
   "source": [
    "bizness = business_json.map(lambda x: (x['business_id'], x['name'], (x['city'] + \", \" + x['state'], x['review_count'])))"
   ]
  },
  {
   "cell_type": "code",
   "execution_count": null,
   "metadata": {
    "execution": {
     "iopub.execute_input": "2022-12-04T01:27:26.031691Z",
     "iopub.status.busy": "2022-12-04T01:27:26.031256Z",
     "iopub.status.idle": "2022-12-04T01:27:26.095180Z",
     "shell.execute_reply": "2022-12-04T01:27:26.093573Z",
     "shell.execute_reply.started": "2022-12-04T01:27:26.031657Z"
    }
   },
   "outputs": [],
   "source": [
    "bizness.take(5)"
   ]
  },
  {
   "cell_type": "code",
   "execution_count": null,
   "metadata": {
    "execution": {
     "iopub.execute_input": "2022-12-04T01:29:08.471718Z",
     "iopub.status.busy": "2022-12-04T01:29:08.471230Z",
     "iopub.status.idle": "2022-12-04T01:29:08.476613Z",
     "shell.execute_reply": "2022-12-04T01:29:08.475663Z",
     "shell.execute_reply.started": "2022-12-04T01:29:08.471683Z"
    }
   },
   "outputs": [],
   "source": [
    "biz = bizness.filter(lambda x: 'Las Fridas Mexican Kitchen' in x)"
   ]
  },
  {
   "cell_type": "code",
   "execution_count": null,
   "metadata": {
    "execution": {
     "iopub.execute_input": "2022-12-04T01:32:24.525219Z",
     "iopub.status.busy": "2022-12-04T01:32:24.524795Z",
     "iopub.status.idle": "2022-12-04T01:32:27.359985Z",
     "shell.execute_reply": "2022-12-04T01:32:27.358932Z",
     "shell.execute_reply.started": "2022-12-04T01:32:24.525186Z"
    }
   },
   "outputs": [],
   "source": [
    "lasFridas = biz.take(1)\n",
    "biz.take(1)"
   ]
  },
  {
   "cell_type": "markdown",
   "metadata": {},
   "source": [
    "Now that I have my favorite restaurant's business ID, I can turn it into a list object that reviews can be filtered through."
   ]
  },
  {
   "cell_type": "code",
   "execution_count": null,
   "metadata": {
    "execution": {
     "iopub.execute_input": "2022-12-04T01:32:15.358993Z",
     "iopub.status.busy": "2022-12-04T01:32:15.358535Z",
     "iopub.status.idle": "2022-12-04T01:32:15.368721Z",
     "shell.execute_reply": "2022-12-04T01:32:15.367085Z",
     "shell.execute_reply.started": "2022-12-04T01:32:15.358957Z"
    }
   },
   "outputs": [],
   "source": [
    "lf = [i[0] for i in lasFridas]\n"
   ]
  },
  {
   "cell_type": "code",
   "execution_count": null,
   "metadata": {
    "execution": {
     "iopub.execute_input": "2022-12-04T01:35:32.471822Z",
     "iopub.status.busy": "2022-12-04T01:35:32.471322Z",
     "iopub.status.idle": "2022-12-04T01:35:32.480309Z",
     "shell.execute_reply": "2022-12-04T01:35:32.478716Z",
     "shell.execute_reply.started": "2022-12-04T01:35:32.471783Z"
    }
   },
   "outputs": [],
   "source": [
    "ur = user_json.map(lambda x: (\"User ID: \" + x['user_id']))\n",
    "rs = review_json.map(lambda x: (x['business_id'], \"User ID: \" + x['user_id']))"
   ]
  },
  {
   "cell_type": "code",
   "execution_count": null,
   "metadata": {
    "execution": {
     "iopub.execute_input": "2022-12-04T01:36:07.391727Z",
     "iopub.status.busy": "2022-12-04T01:36:07.390566Z",
     "iopub.status.idle": "2022-12-04T01:36:07.396629Z",
     "shell.execute_reply": "2022-12-04T01:36:07.395681Z",
     "shell.execute_reply.started": "2022-12-04T01:36:07.391680Z"
    }
   },
   "outputs": [],
   "source": [
    "filteredRev = rs.filter(lambda x: x[0] in lf)"
   ]
  },
  {
   "cell_type": "code",
   "execution_count": null,
   "metadata": {
    "execution": {
     "iopub.execute_input": "2022-12-04T01:37:00.990868Z",
     "iopub.status.busy": "2022-12-04T01:37:00.990414Z",
     "iopub.status.idle": "2022-12-04T01:37:33.956515Z",
     "shell.execute_reply": "2022-12-04T01:37:33.955335Z",
     "shell.execute_reply.started": "2022-12-04T01:37:00.990836Z"
    }
   },
   "outputs": [],
   "source": [
    "filteredRev.count()"
   ]
  },
  {
   "cell_type": "code",
   "execution_count": null,
   "metadata": {
    "execution": {
     "iopub.execute_input": "2022-12-04T01:38:57.219209Z",
     "iopub.status.busy": "2022-12-04T01:38:57.218764Z",
     "iopub.status.idle": "2022-12-04T01:39:21.743552Z",
     "shell.execute_reply": "2022-12-04T01:39:21.742534Z",
     "shell.execute_reply.started": "2022-12-04T01:38:57.219174Z"
    }
   },
   "outputs": [],
   "source": [
    "revNames = filteredRev.take(22)"
   ]
  },
  {
   "cell_type": "code",
   "execution_count": null,
   "metadata": {
    "execution": {
     "iopub.execute_input": "2022-12-04T01:42:41.896770Z",
     "iopub.status.busy": "2022-12-04T01:42:41.896264Z",
     "iopub.status.idle": "2022-12-04T01:42:41.906179Z",
     "shell.execute_reply": "2022-12-04T01:42:41.904577Z",
     "shell.execute_reply.started": "2022-12-04T01:42:41.896737Z"
    }
   },
   "outputs": [],
   "source": [
    "rev = [i[1] for i in revNames]\n",
    "rev"
   ]
  },
  {
   "cell_type": "markdown",
   "metadata": {},
   "source": [
    "So the first thing we want to do is find out if the restaurant is frequented by non locals. The way I want to do that is exactly how I solved the first part of this assignment: take the list of twenty-two users, run all of their individual reviews through reviews dataset and match it with business data set. Then, obtain their location by running the review/business info through our previously made function. We already have the user IDs so the rest should be fairly simple."
   ]
  },
  {
   "cell_type": "code",
   "execution_count": null,
   "metadata": {
    "execution": {
     "iopub.execute_input": "2022-12-04T01:44:14.866214Z",
     "iopub.status.busy": "2022-12-04T01:44:14.865754Z",
     "iopub.status.idle": "2022-12-04T01:44:14.872436Z",
     "shell.execute_reply": "2022-12-04T01:44:14.870783Z",
     "shell.execute_reply.started": "2022-12-04T01:44:14.866177Z"
    }
   },
   "outputs": [],
   "source": [
    "loc = reviews.filter(lambda x: x[1] in rev)"
   ]
  },
  {
   "cell_type": "code",
   "execution_count": null,
   "metadata": {
    "execution": {
     "iopub.execute_input": "2022-12-04T01:45:58.853504Z",
     "iopub.status.busy": "2022-12-04T01:45:58.853101Z",
     "iopub.status.idle": "2022-12-04T01:45:58.902940Z",
     "shell.execute_reply": "2022-12-04T01:45:58.901437Z",
     "shell.execute_reply.started": "2022-12-04T01:45:58.853471Z"
    }
   },
   "outputs": [],
   "source": [
    "loc1 = loc.join(businessInfo)"
   ]
  },
  {
   "cell_type": "code",
   "execution_count": null,
   "metadata": {
    "execution": {
     "iopub.execute_input": "2022-12-04T01:46:26.303635Z",
     "iopub.status.busy": "2022-12-04T01:46:26.303159Z",
     "iopub.status.idle": "2022-12-04T01:47:03.602670Z",
     "shell.execute_reply": "2022-12-04T01:47:03.601659Z",
     "shell.execute_reply.started": "2022-12-04T01:46:26.303605Z"
    }
   },
   "outputs": [],
   "source": [
    "loc2 = loc1.map(lambda x: (x[1][0], (x[0], x[1][1][0], x[1][1][1])))\n",
    "loc2.take(1)"
   ]
  },
  {
   "cell_type": "code",
   "execution_count": null,
   "metadata": {
    "execution": {
     "iopub.execute_input": "2022-12-04T01:48:08.397984Z",
     "iopub.status.busy": "2022-12-04T01:48:08.397471Z",
     "iopub.status.idle": "2022-12-04T01:48:08.425199Z",
     "shell.execute_reply": "2022-12-04T01:48:08.424289Z",
     "shell.execute_reply.started": "2022-12-04T01:48:08.397946Z"
    }
   },
   "outputs": [],
   "source": [
    "loc3 = loc2.groupByKey().mapValues(list)"
   ]
  },
  {
   "cell_type": "code",
   "execution_count": null,
   "metadata": {
    "execution": {
     "iopub.execute_input": "2022-12-04T01:48:16.341386Z",
     "iopub.status.busy": "2022-12-04T01:48:16.340984Z",
     "iopub.status.idle": "2022-12-04T01:48:19.909925Z",
     "shell.execute_reply": "2022-12-04T01:48:19.908035Z",
     "shell.execute_reply.started": "2022-12-04T01:48:16.341357Z"
    }
   },
   "outputs": [],
   "source": [
    "loc3.count()"
   ]
  },
  {
   "cell_type": "markdown",
   "metadata": {},
   "source": [
    "Twenty-two users, perfect! On the right track - again, simply just following our previous steps for part one of the assignment."
   ]
  },
  {
   "cell_type": "code",
   "execution_count": null,
   "metadata": {
    "execution": {
     "iopub.execute_input": "2022-12-04T01:49:31.618956Z",
     "iopub.status.busy": "2022-12-04T01:49:31.618482Z",
     "iopub.status.idle": "2022-12-04T01:49:31.626218Z",
     "shell.execute_reply": "2022-12-04T01:49:31.624571Z",
     "shell.execute_reply.started": "2022-12-04T01:49:31.618921Z"
    }
   },
   "outputs": [],
   "source": [
    "loc4 = loc3.map(lambda x: (x[0], locationCounter(x))) #Gets count of each business location per user id"
   ]
  },
  {
   "cell_type": "code",
   "execution_count": null,
   "metadata": {
    "execution": {
     "iopub.execute_input": "2022-12-04T01:49:39.324476Z",
     "iopub.status.busy": "2022-12-04T01:49:39.324115Z",
     "iopub.status.idle": "2022-12-04T01:49:41.592199Z",
     "shell.execute_reply": "2022-12-04T01:49:41.590946Z",
     "shell.execute_reply.started": "2022-12-04T01:49:39.324448Z"
    },
    "jupyter": {
     "outputs_hidden": true
    }
   },
   "outputs": [],
   "source": [
    "loc4.take(22)"
   ]
  },
  {
   "cell_type": "markdown",
   "metadata": {},
   "source": [
    "As expected, most of the reviewers live locally with most of them being from Philadelphia, PA and Ambler, PA. I doubt non-locals would be going to a hole-in-the-wall mexican restaurant in a shady shopping center. Regardless, the food is fantastic. \n",
    "\n",
    "Now, the final steps are to study the high and low reviews. While there are only twenty-two reviews, and it would be easy just to go over them manually, for the sake of automation I will use the previously unused \"star\" category to analyze the top highest reviews and the bottom reviews."
   ]
  },
  {
   "cell_type": "code",
   "execution_count": null,
   "metadata": {
    "execution": {
     "iopub.execute_input": "2022-12-04T01:57:48.456925Z",
     "iopub.status.busy": "2022-12-04T01:57:48.456460Z",
     "iopub.status.idle": "2022-12-04T01:57:48.463434Z",
     "shell.execute_reply": "2022-12-04T01:57:48.461915Z",
     "shell.execute_reply.started": "2022-12-04T01:57:48.456892Z"
    }
   },
   "outputs": [],
   "source": [
    "review_stuff = review_json.map(lambda x: (x['business_id'], x['stars'], x['text']))"
   ]
  },
  {
   "cell_type": "code",
   "execution_count": null,
   "metadata": {
    "execution": {
     "iopub.execute_input": "2022-12-04T01:58:55.572288Z",
     "iopub.status.busy": "2022-12-04T01:58:55.571182Z",
     "iopub.status.idle": "2022-12-04T01:58:55.578064Z",
     "shell.execute_reply": "2022-12-04T01:58:55.576132Z",
     "shell.execute_reply.started": "2022-12-04T01:58:55.572246Z"
    }
   },
   "outputs": [],
   "source": [
    "allReviews = review_stuff.filter(lambda x: x[0] in lf)"
   ]
  },
  {
   "cell_type": "markdown",
   "metadata": {},
   "source": [
    "First things first, lets grab the top five highest rated reviews:"
   ]
  },
  {
   "cell_type": "code",
   "execution_count": null,
   "metadata": {
    "execution": {
     "iopub.execute_input": "2022-12-04T02:02:33.599561Z",
     "iopub.status.busy": "2022-12-04T02:02:33.599134Z",
     "iopub.status.idle": "2022-12-04T02:03:03.797854Z",
     "shell.execute_reply": "2022-12-04T02:03:03.796810Z",
     "shell.execute_reply.started": "2022-12-04T02:02:33.599525Z"
    }
   },
   "outputs": [],
   "source": [
    "highReviews = allReviews.takeOrdered(5, key=lambda x: -x[1])"
   ]
  },
  {
   "cell_type": "markdown",
   "metadata": {},
   "source": [
    "Now, lets grab the bottom five reviews:"
   ]
  },
  {
   "cell_type": "code",
   "execution_count": null,
   "metadata": {
    "execution": {
     "iopub.execute_input": "2022-12-04T02:03:10.529792Z",
     "iopub.status.busy": "2022-12-04T02:03:10.529339Z",
     "iopub.status.idle": "2022-12-04T02:03:40.354247Z",
     "shell.execute_reply": "2022-12-04T02:03:40.353330Z",
     "shell.execute_reply.started": "2022-12-04T02:03:10.529755Z"
    }
   },
   "outputs": [],
   "source": [
    "lowReviews = allReviews.takeOrdered(5, key=lambda x: x[1])"
   ]
  },
  {
   "cell_type": "markdown",
   "metadata": {},
   "source": [
    "The function below was copied from https://stackoverflow.com/a/63819393. It basically uses TextBlob to find all Positive, Negative, and Neutral words in a given set. I thought it would be interesting to see how it works when the top and bottom reviews are fed into it. I did comment out the neutral column as that one is not as important as the other two. "
   ]
  },
  {
   "cell_type": "code",
   "execution_count": null,
   "metadata": {
    "execution": {
     "iopub.execute_input": "2022-12-04T02:27:32.660323Z",
     "iopub.status.busy": "2022-12-04T02:27:32.659843Z",
     "iopub.status.idle": "2022-12-04T02:27:32.669087Z",
     "shell.execute_reply": "2022-12-04T02:27:32.666791Z",
     "shell.execute_reply.started": "2022-12-04T02:27:32.660291Z"
    }
   },
   "outputs": [],
   "source": [
    "from textblob import TextBlob\n",
    "\n",
    "\n",
    "def word_polarity(test_subset):\n",
    "\n",
    "    pos_word_list=[]\n",
    "    neu_word_list=[]\n",
    "    neg_word_list=[]\n",
    "\n",
    "    for word in test_subset:               \n",
    "        testimonial = TextBlob(word)\n",
    "        if testimonial.sentiment.polarity >= 0.5:\n",
    "            pos_word_list.append(word)\n",
    "        elif testimonial.sentiment.polarity <= -0.5:\n",
    "            neg_word_list.append(word)\n",
    "        else:\n",
    "            neu_word_list.append(word)\n",
    "\n",
    "    print('Positive :',pos_word_list)        \n",
    "    #print('Neutral :',neu_word_list)    \n",
    "    print('Negative :',neg_word_list)    "
   ]
  },
  {
   "cell_type": "code",
   "execution_count": null,
   "metadata": {
    "execution": {
     "iopub.execute_input": "2022-12-04T02:28:12.428113Z",
     "iopub.status.busy": "2022-12-04T02:28:12.427703Z",
     "iopub.status.idle": "2022-12-04T02:28:12.434375Z",
     "shell.execute_reply": "2022-12-04T02:28:12.432716Z",
     "shell.execute_reply.started": "2022-12-04T02:28:12.428079Z"
    }
   },
   "outputs": [],
   "source": [
    "from collections import Counter\n",
    "badReviews = \"\"\n",
    "goodReviews = \"\"\n",
    "for i in lowReviews:\n",
    "    badReviews = badReviews + i[2]\n",
    "\n",
    "for i in highReviews:\n",
    "    goodReviews = goodReviews + i[2]"
   ]
  },
  {
   "cell_type": "markdown",
   "metadata": {},
   "source": [
    "**Low reviews:**"
   ]
  },
  {
   "cell_type": "code",
   "execution_count": null,
   "metadata": {
    "execution": {
     "iopub.execute_input": "2022-12-04T02:28:24.926440Z",
     "iopub.status.busy": "2022-12-04T02:28:24.926033Z",
     "iopub.status.idle": "2022-12-04T02:28:24.999420Z",
     "shell.execute_reply": "2022-12-04T02:28:24.998002Z",
     "shell.execute_reply.started": "2022-12-04T02:28:24.926406Z"
    }
   },
   "outputs": [],
   "source": [
    "word_polarity(badReviews.split())"
   ]
  },
  {
   "cell_type": "markdown",
   "metadata": {},
   "source": [
    "**High reviews:**"
   ]
  },
  {
   "cell_type": "code",
   "execution_count": null,
   "metadata": {
    "execution": {
     "iopub.execute_input": "2022-12-04T02:28:27.820441Z",
     "iopub.status.busy": "2022-12-04T02:28:27.819737Z",
     "iopub.status.idle": "2022-12-04T02:28:27.851703Z",
     "shell.execute_reply": "2022-12-04T02:28:27.849354Z",
     "shell.execute_reply.started": "2022-12-04T02:28:27.820403Z"
    }
   },
   "outputs": [],
   "source": [
    "word_polarity(goodReviews.split())"
   ]
  },
  {
   "cell_type": "markdown",
   "metadata": {},
   "source": [
    "When analyzing the positive and negative words, it is interesting to see that even the bottom five reviews are mostly positive. There were only two negative words overall. It is nice to see that most of the reviews were praising this place."
   ]
  }
 ],
 "metadata": {
  "kernelspec": {
   "display_name": "Python 3",
   "language": "python",
   "name": "python3"
  },
  "language_info": {
   "codemirror_mode": {
    "name": "ipython",
    "version": 3
   },
   "file_extension": ".py",
   "mimetype": "text/x-python",
   "name": "python",
   "nbconvert_exporter": "python",
   "pygments_lexer": "ipython3",
   "version": "3.6.13"
  }
 },
 "nbformat": 4,
 "nbformat_minor": 4
}
